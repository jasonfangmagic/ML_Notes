{
  "nbformat": 4,
  "nbformat_minor": 0,
  "metadata": {
    "colab": {
      "name": "Machine Learning Yearning by Andrew Ng.ipynb",
      "provenance": [],
      "authorship_tag": "ABX9TyNE2tXhxBsMaweDWJIXpV8c",
      "include_colab_link": true
    },
    "kernelspec": {
      "name": "python3",
      "display_name": "Python 3"
    },
    "language_info": {
      "name": "python"
    }
  },
  "cells": [
    {
      "cell_type": "markdown",
      "metadata": {
        "id": "view-in-github",
        "colab_type": "text"
      },
      "source": [
        "<a href=\"https://colab.research.google.com/github/jasonfangmagic/ML_Notes/blob/main/Machine_Learning_Yearning_by_Andrew_Ng.ipynb\" target=\"_parent\"><img src=\"https://colab.research.google.com/assets/colab-badge.svg\" alt=\"Open In Colab\"/></a>"
      ]
    },
    {
      "cell_type": "markdown",
      "source": [
        "##Machine Learning Yearning by Andrew Ng"
      ],
      "metadata": {
        "id": "Tq_A6f2k7gnM"
      }
    },
    {
      "cell_type": "markdown",
      "source": [
        "1. Find out what's usefull to try, and what's not useful to try. Save you months or years of development time. "
      ],
      "metadata": {
        "id": "uIQ_rtSy7lji"
      }
    },
    {
      "cell_type": "markdown",
      "source": [
        "2. Set technical direction for a machine learning project. A few changes in prioritization can have a huge effect on your team's productivity. Become a superhero of your team!"
      ],
      "metadata": {
        "id": "BjNOhaK870He"
      }
    },
    {
      "cell_type": "markdown",
      "source": [],
      "metadata": {
        "id": "Nc9NvrjH8s23"
      }
    }
  ]
}