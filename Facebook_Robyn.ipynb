{
  "nbformat": 4,
  "nbformat_minor": 0,
  "metadata": {
    "colab": {
      "name": "Facebook Robyn",
      "provenance": [],
      "authorship_tag": "ABX9TyOrj/P/PT26NWtrs8040veZ",
      "include_colab_link": true
    },
    "kernelspec": {
      "name": "python3",
      "display_name": "Python 3"
    },
    "language_info": {
      "name": "python"
    }
  },
  "cells": [
    {
      "cell_type": "markdown",
      "metadata": {
        "id": "view-in-github",
        "colab_type": "text"
      },
      "source": [
        "<a href=\"https://colab.research.google.com/github/jasonfangmagic/ML_Notes/blob/main/Facebook_Robyn.ipynb\" target=\"_parent\"><img src=\"https://colab.research.google.com/assets/colab-badge.svg\" alt=\"Open In Colab\"/></a>"
      ]
    },
    {
      "cell_type": "markdown",
      "source": [
        "By applying these techniques on our historical data we will be\n",
        "able to identify how different channels and variables are\n",
        "contributing to our sales."
      ],
      "metadata": {
        "id": "mpVSwp0Pw-sN"
      }
    },
    {
      "cell_type": "markdown",
      "source": [
        "##Two solutions "
      ],
      "metadata": {
        "id": "wTLHpJNlxf7B"
      }
    },
    {
      "cell_type": "markdown",
      "source": [
        "## 1. MTA Multi-touch attribution\n"
      ],
      "metadata": {
        "id": "QZc02m6NxOla"
      }
    },
    {
      "cell_type": "markdown",
      "source": [
        "A marketing measurement approach that attempts to track users across devices and the ads they've seen in order to determine how the ads contribute to the path to purchase."
      ],
      "metadata": {
        "id": "XsB8zeFixa6K"
      }
    },
    {
      "cell_type": "markdown",
      "source": [
        "Based on users\n",
        "\n",
        "behaviour's data\n",
        "\n",
        "Imprecise when business works offline too\n",
        "\n",
        "Requires user level data"
      ],
      "metadata": {
        "id": "Sprm-BFRxqd5"
      }
    },
    {
      "cell_type": "markdown",
      "source": [
        "## 2. MMX Marketing Mix Modeling"
      ],
      "metadata": {
        "id": "ru96bZ4lxwy0"
      }
    },
    {
      "cell_type": "markdown",
      "source": [
        "Information about users are unnecessary\n",
        "\n",
        "Can handle mixed sales channels well\n",
        "\n",
        "Requires aggregate data"
      ],
      "metadata": {
        "id": "1b30pmAzx36y"
      }
    },
    {
      "cell_type": "code",
      "execution_count": null,
      "metadata": {
        "id": "hVuU5-fCiw-0"
      },
      "outputs": [],
      "source": [
        "%load_ext rpy2.ipython"
      ]
    },
    {
      "cell_type": "code",
      "source": [
        "%%R\n",
        "install.packages(\"Robyn\")"
      ],
      "metadata": {
        "id": "8LJ1XoLlmDmJ"
      },
      "execution_count": null,
      "outputs": []
    },
    {
      "cell_type": "code",
      "source": [
        "%%R\n",
        "install.packages(\"reticulate\")"
      ],
      "metadata": {
        "id": "jMYh91CgmPCY"
      },
      "execution_count": null,
      "outputs": []
    },
    {
      "cell_type": "code",
      "source": [
        "%%R\n",
        "library(reticulate)"
      ],
      "metadata": {
        "id": "B59x5DBlttrn"
      },
      "execution_count": null,
      "outputs": []
    },
    {
      "cell_type": "code",
      "source": [
        "pip install nevergrad"
      ],
      "metadata": {
        "id": "YU4GFFWTt0MJ"
      },
      "execution_count": null,
      "outputs": []
    },
    {
      "cell_type": "code",
      "source": [
        "%%R\n",
        "data(\"dt_simulated_weekly\")"
      ],
      "metadata": {
        "id": "76_9-kxQt44Z"
      },
      "execution_count": null,
      "outputs": []
    },
    {
      "cell_type": "code",
      "source": [
        "%%R\n",
        "head(dt_simulated_weekly)"
      ],
      "metadata": {
        "id": "METx2CSguQzZ"
      },
      "execution_count": null,
      "outputs": []
    },
    {
      "cell_type": "code",
      "source": [
        ""
      ],
      "metadata": {
        "id": "pQQ92UHPuUIe"
      },
      "execution_count": null,
      "outputs": []
    }
  ]
}